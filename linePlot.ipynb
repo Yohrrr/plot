{
 "cells": [
  {
   "cell_type": "code",
   "execution_count": 1,
   "metadata": {},
   "outputs": [],
   "source": [
    "import matplotlib.pyplot as plt\n",
    "import pandas as pd"
   ]
  },
  {
   "cell_type": "code",
   "execution_count": 40,
   "metadata": {},
   "outputs": [
    {
     "data": {
      "image/png": "[encoded data removed]",
      "text/plain": [
       "<Figure size 432x288 with 1 Axes>"
      ]
     },
     "metadata": {
      "needs_background": "light"
     },
     "output_type": "display_data"
    }
   ],
   "source": [
    "plt.rcParams[\"font.family\"] = \"Helvetica\"            #全体のフォントを設定\n",
    "plt.rcParams['mathtext.fontset'] = 'stix'            # math fontの設定\n",
    "\n",
    "plt.rcParams[\"xtick.direction\"] = \"in\"               #x軸の目盛線を内向きへ\n",
    "plt.rcParams[\"ytick.direction\"] = \"in\"               #y軸の目盛線を内向きへ\n",
    "plt.rcParams[\"xtick.minor.visible\"] = True           #x軸補助目盛りの追加\n",
    "plt.rcParams[\"ytick.minor.visible\"] = True           #y軸補助目盛りの追加\n",
    "plt.rcParams[\"xtick.major.width\"] = 1.5              #x軸主目盛り線の線幅\n",
    "plt.rcParams[\"ytick.major.width\"] = 1.5              #y軸主目盛り線の線幅\n",
    "plt.rcParams[\"xtick.minor.width\"] = 1.0              #x軸補助目盛り線の線幅\n",
    "plt.rcParams[\"ytick.minor.width\"] = 1.0              #y軸補助目盛り線の線幅\n",
    "plt.rcParams[\"xtick.major.size\"] = 10                #x軸主目盛り線の長さ\n",
    "plt.rcParams[\"ytick.major.size\"] = 10                #y軸主目盛り線の長さ\n",
    "plt.rcParams[\"xtick.minor.size\"] = 5                 #x軸補助目盛り線の長さ\n",
    "plt.rcParams[\"ytick.minor.size\"] = 5                 #y軸補助目盛り線の長さ\n",
    "plt.rcParams[\"font.size\"] = 14                       #フォントの大きさ\n",
    "plt.rcParams[\"axes.linewidth\"] = 1.5                 #囲みの太さ\n",
    "\n",
    "plt.rcParams['axes.grid'] = True                     # make grid\n",
    "\n",
    "plt.rcParams[\"legend.fancybox\"] = False              # 丸角\n",
    "plt.rcParams[\"legend.framealpha\"] = 1                # 透明度の指定、0で塗りつぶしなし\n",
    "plt.rcParams[\"legend.edgecolor\"] = 'black'           # edgeの色を変更\n",
    "plt.rcParams[\"legend.handlelength\"] = 1              # 凡例の線の長さを調節\n",
    "plt.rcParams[\"legend.labelspacing\"] = 5.             # 垂直方向（縦）の距離の各凡例の距離\n",
    "plt.rcParams[\"legend.handletextpad\"] = 3.            # 凡例の線と文字の距離の長さ\n",
    "plt.rcParams[\"legend.markerscale\"] = 2               # 点がある場合のmarker scale\n",
    "\n",
    "#fig = plt.figure() # Figureオブジェクトを作成\n",
    "#ax = fig.add_subplot(1,1,1) # figに属するAxesオブジェクトを作成\n",
    "plt.plot(x, y, marker='.', markeredgewidth=2., markeredgecolor='k', color=\"b\", linewidth=2, label='test')\n",
    "\n",
    "plt.title('test plot',fontsize=16)\n",
    "plt.legend()\n",
    "\n",
    "plt.xlabel('x',fontsize=14)\n",
    "plt.ylabel('y',fontsize=14)\n",
    "\n",
    "plt.xlim(0,6)\n",
    "plt.ylim(4,12)\n",
    "\n",
    "plt.xticks(range(0,6, 2), rotation=0, fontname='Arial',fontsize=10)\n",
    "plt.yticks(range(4,12, 4),fontsize=10, rotation=0)\n",
    "\n",
    "plt.savefig('test.png', dpi=500, bbox_inches=\"tight\", pad_inches=0.05)"
   ]
  },
  {
   "cell_type": "code",
   "execution_count": null,
   "metadata": {},
   "outputs": [],
   "source": []
  }
 ],
 "metadata": {
  "kernelspec": {
   "display_name": "Python 3",
   "language": "python",
   "name": "python3"
  },
  "language_info": {
   "codemirror_mode": {
    "name": "ipython",
    "version": 3
   },
   "file_extension": ".py",
   "mimetype": "text/x-python",
   "name": "python",
   "nbconvert_exporter": "python",
   "pygments_lexer": "ipython3",
   "version": "3.7.3"
  }
 },
 "nbformat": 4,
 "nbformat_minor": 2
}
